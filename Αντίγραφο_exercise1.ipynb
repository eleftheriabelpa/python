{
  "nbformat": 4,
  "nbformat_minor": 0,
  "metadata": {
    "colab": {
      "provenance": [],
      "include_colab_link": true
    },
    "kernelspec": {
      "name": "python3",
      "display_name": "Python 3"
    },
    "language_info": {
      "name": "python"
    }
  },
  "cells": [
    {
      "cell_type": "markdown",
      "metadata": {
        "id": "view-in-github",
        "colab_type": "text"
      },
      "source": [
        "<a href=\"https://colab.research.google.com/github/eleftheriabelpa/python/blob/main/%CE%91%CE%BD%CF%84%CE%AF%CE%B3%CF%81%CE%B1%CF%86%CE%BF_exercise1.ipynb\" target=\"_parent\"><img src=\"https://colab.research.google.com/assets/colab-badge.svg\" alt=\"Open In Colab\"/></a>"
      ]
    },
    {
      "cell_type": "markdown",
      "source": [
        "Δημιουργήστε τις παρακάτω μεταβλητές:\n",
        "- όνομα\n",
        "- επώνυμο\n",
        "- αριθμός μητρώου\n",
        "- μάθημα 1\n",
        "- μάθημα 2\n",
        "- μάθημα 3\n",
        "- βαθμός μαθήματος 1\n",
        "- βαθμός μαθήματος 2\n",
        "- βαθμός μαθήματος 3\n",
        "\n",
        "Σε κάθε μεταβλητή δώστε την αντίστοιχη τιμή, με το σωστό τύπο δεδομένων (string, integer).\n",
        "\n",
        "Τυπώστε στην οθόνη (print) τις τιμές όλων των μεταβλητών που ορίσατε.\n",
        "\n",
        "**Hints**:\n",
        "- όπου η τιμή είναι αριθμός, σκεφτείτε αν θα χρησιμοποιήσετε stirng ή integer, ανάλογα με το αν χρειάζεται να κάνετε αργότερα αριθμητικές πράξεις\n",
        "- χρησιμοποιήστε ονόματα μεταβλητών που να έχουν νόημα\n",
        "- εάν γράψετε όλες τις εντολές σε ένα κελί, όταν φτάσετε στο τέλος στο σημείο να γράψετε την εντολή `print`, το colab θα σας προτείνει να γράψετε μέσα στις παρενθέσεις όλες τις μεταβλητές. Πατήστε `tab` για να αποδεχτείτε την πρόταση που σας κάνει."
      ],
      "metadata": {
        "id": "JZISjhuEQFOB"
      }
    },
    {
      "cell_type": "code",
      "execution_count": null,
      "metadata": {
        "id": "cRnQhimEPhY0"
      },
      "outputs": [],
      "source": [
        "Name = \"Eleftheria\"\n",
        "Surname = \"Belpa\"\n",
        "arithmosMhtrwou = \"7983092400006\"\n",
        "course1 = \"Python\"\n",
        "course2 = \"3D\"\n",
        "course3 = \"machineLearning\"\n",
        "gradeCourse1 = 8\n",
        "gradeCourse2 = 7\n",
        "gradeCourse3 = 7"
      ]
    },
    {
      "cell_type": "markdown",
      "source": [
        "Υπολογίστε το μέσο όρο των βαθμών των 3 μαθημάτων, αποθηκεύστε τον σε μια μεταβλητή και τυπώστε την τιμή της μεταβλητής του μέσου όρου στην οθόνη.\n",
        "\n",
        "**Hints**:\n",
        "- ο μέσος όρος υπολογίζεται με τη φόρμουλα: <άθροισμα επιμέρους τιμών> δια <πλήθος τιμών>\n",
        "- για τον υπολογισμό του μέσου όρου χρησιμοποιήστε τα ονόματα των μεταβλητών των επιμέρους τιμών και όχι τις τιμές τους"
      ],
      "metadata": {
        "id": "uPD0W-qcWcfV"
      }
    },
    {
      "cell_type": "code",
      "source": [
        "mesosOros = (gradeCourse1 + gradeCourse2 + gradeCourse3) / 3"
      ],
      "metadata": {
        "id": "Z0OnhXMURzMR"
      },
      "execution_count": null,
      "outputs": []
    },
    {
      "cell_type": "markdown",
      "source": [
        "Τυπώστε στην οθόνη την τιμή του μέσου όρου και τον τύπο δεδομένων της μεταβλητής του μέσου όρου."
      ],
      "metadata": {
        "id": "3lDi2k3iYoWe"
      }
    },
    {
      "cell_type": "code",
      "source": [
        "print = (mesosOros)\n",
        "type (mesosOros)"
      ],
      "metadata": {
        "id": "kzsIPi98KXt9",
        "outputId": "da53835d-558a-4c34-ff98-5b9af78b5fa6",
        "colab": {
          "base_uri": "https://localhost:8080/"
        }
      },
      "execution_count": null,
      "outputs": [
        {
          "output_type": "execute_result",
          "data": {
            "text/plain": [
              "int"
            ]
          },
          "metadata": {},
          "execution_count": 38
        }
      ]
    },
    {
      "cell_type": "markdown",
      "source": [
        "Μετατρέψτε το μέσο όρο σε ακέραιο (integer) και τυπώστε το αποτέλεσμα στην οθόνη."
      ],
      "metadata": {
        "id": "y-QK_9DmZHAF"
      }
    },
    {
      "cell_type": "code",
      "source": [
        "mesosOros = int (mesosOros)\n",
        "print = (mesosOros)"
      ],
      "metadata": {
        "id": "4bCwPQBGL4V0"
      },
      "execution_count": null,
      "outputs": []
    },
    {
      "cell_type": "code",
      "source": [
        "print = (mesosOros)"
      ],
      "metadata": {
        "id": "mFylwYuqPZFF"
      },
      "execution_count": null,
      "outputs": []
    },
    {
      "cell_type": "markdown",
      "source": [
        "Αλλάξτε τις τιμές των μεταβλητών των βαθμών των μαθημάτων και ξαναϋπολογίστε τον μέσο όρο."
      ],
      "metadata": {
        "id": "2UZvmxOPayZM"
      }
    },
    {
      "cell_type": "code",
      "source": [
        "gradeCourse1 = 7\n",
        "gradeCourse2 = 8\n",
        "gradeCourse3 = 8\n"
      ],
      "metadata": {
        "id": "Pt7S8erXeasx"
      },
      "execution_count": null,
      "outputs": []
    },
    {
      "cell_type": "code",
      "source": [
        "mesosOros = (gradeCourse1 + gradeCourse2 + gradeCourse3) / 3\n",
        "print = (mesosOros)"
      ],
      "metadata": {
        "id": "9RFGgLjDNpTk"
      },
      "execution_count": null,
      "outputs": []
    },
    {
      "cell_type": "markdown",
      "source": [
        "Δημιουργήστε ένα νέο κελί κώδικα.\n",
        "\n",
        "Μέσα στο κελί γράφει: Start coding or generate with AI. Πατήστε τη λέξη generate.\n",
        "\n",
        "Στο κελί Generate που εμφανίζεται γράψτε ένα prompt με το οποίο να του ζητάτε να αλλάξει τη μεταβλητή grade1 σε 5 και να ξαναϋπολογίσει τον μέσο όρο."
      ],
      "metadata": {
        "id": "1dhIvNXCecFf"
      }
    },
    {
      "cell_type": "code",
      "source": [
        "# prompt: replace gradeCourse1 to 5 and print mesosOros\n",
        "\n",
        "gradeCourse1 = 5\n",
        "mesosOros = (gradeCourse1 + gradeCourse2 + gradeCourse3) / 3\n",
        "mesosOros\n"
      ],
      "metadata": {
        "id": "9yTveSV_bLbV",
        "colab": {
          "base_uri": "https://localhost:8080/"
        },
        "outputId": "aeb2f473-23f3-4c78-b618-f818b9be03e5"
      },
      "execution_count": null,
      "outputs": [
        {
          "output_type": "execute_result",
          "data": {
            "text/plain": [
              "7.0"
            ]
          },
          "metadata": {},
          "execution_count": 33
        }
      ]
    }
  ]
}